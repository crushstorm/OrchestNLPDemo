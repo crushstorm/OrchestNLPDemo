{
 "cells": [
  {
   "cell_type": "code",
   "execution_count": 1,
   "id": "049264f6",
   "metadata": {},
   "outputs": [],
   "source": [
    "import orchest"
   ]
  },
  {
   "cell_type": "code",
   "execution_count": 2,
   "id": "4f2d1a90",
   "metadata": {},
   "outputs": [
    {
     "name": "stderr",
     "output_type": "stream",
     "text": [
      "/opt/conda/lib/python3.7/site-packages/gensim/similarities/__init__.py:15: UserWarning: The gensim.similarities.levenshtein submodule is disabled, because the optional Levenshtein package <https://pypi.org/project/python-Levenshtein/> is unavailable. Install Levenhstein (e.g. `pip install python-Levenshtein`) to suppress this warning.\n",
      "  warnings.warn(msg)\n",
      "[nltk_data] Downloading package stopwords to /home/jovyan/nltk_data...\n",
      "[nltk_data]   Unzipping corpora/stopwords.zip.\n",
      "[nltk_data] Downloading package wordnet to /home/jovyan/nltk_data...\n",
      "[nltk_data]   Unzipping corpora/wordnet.zip.\n"
     ]
    }
   ],
   "source": [
    "import nltk\n",
    "import string\n",
    "import re\n",
    "from gensim import corpora\n",
    "from gensim.models import LdaModel, LdaMulticore\n",
    "from nltk.corpus import stopwords\n",
    "nltk.download('stopwords')\n",
    "nltk.download('wordnet')\n",
    "stop = stopwords.words('english') "
   ]
  },
  {
   "cell_type": "code",
   "execution_count": 3,
   "id": "fce082f5",
   "metadata": {},
   "outputs": [],
   "source": [
    "df = orchest.get_inputs()[\"input_dataframe\"]"
   ]
  },
  {
   "cell_type": "code",
   "execution_count": 4,
   "id": "de5519c8",
   "metadata": {},
   "outputs": [
    {
     "data": {
      "text/html": [
       "<div>\n",
       "<style scoped>\n",
       "    .dataframe tbody tr th:only-of-type {\n",
       "        vertical-align: middle;\n",
       "    }\n",
       "\n",
       "    .dataframe tbody tr th {\n",
       "        vertical-align: top;\n",
       "    }\n",
       "\n",
       "    .dataframe thead th {\n",
       "        text-align: right;\n",
       "    }\n",
       "</style>\n",
       "<table border=\"1\" class=\"dataframe\">\n",
       "  <thead>\n",
       "    <tr style=\"text-align: right;\">\n",
       "      <th></th>\n",
       "      <th>date</th>\n",
       "      <th>variation</th>\n",
       "      <th>verified_reviews</th>\n",
       "      <th>feedback</th>\n",
       "    </tr>\n",
       "  </thead>\n",
       "  <tbody>\n",
       "    <tr>\n",
       "      <th>0</th>\n",
       "      <td>2017-01-13T00:00:00.000Z</td>\n",
       "      <td>All-New Fire HD 8 Tablet, 8 HD Display, Wi-Fi,...</td>\n",
       "      <td>This product so far has not disappointed. My c...</td>\n",
       "      <td>1</td>\n",
       "    </tr>\n",
       "    <tr>\n",
       "      <th>1</th>\n",
       "      <td>2017-01-13T00:00:00.000Z</td>\n",
       "      <td>All-New Fire HD 8 Tablet, 8 HD Display, Wi-Fi,...</td>\n",
       "      <td>great for beginner or experienced person. Boug...</td>\n",
       "      <td>1</td>\n",
       "    </tr>\n",
       "    <tr>\n",
       "      <th>2</th>\n",
       "      <td>2017-01-13T00:00:00.000Z</td>\n",
       "      <td>All-New Fire HD 8 Tablet, 8 HD Display, Wi-Fi,...</td>\n",
       "      <td>Inexpensive tablet for him to use and learn on...</td>\n",
       "      <td>1</td>\n",
       "    </tr>\n",
       "    <tr>\n",
       "      <th>3</th>\n",
       "      <td>2017-01-13T00:00:00.000Z</td>\n",
       "      <td>All-New Fire HD 8 Tablet, 8 HD Display, Wi-Fi,...</td>\n",
       "      <td>I've had my Fire HD 8 two weeks now and I love...</td>\n",
       "      <td>1</td>\n",
       "    </tr>\n",
       "    <tr>\n",
       "      <th>4</th>\n",
       "      <td>2017-01-12T00:00:00.000Z</td>\n",
       "      <td>All-New Fire HD 8 Tablet, 8 HD Display, Wi-Fi,...</td>\n",
       "      <td>I bought this for my grand daughter when she c...</td>\n",
       "      <td>1</td>\n",
       "    </tr>\n",
       "    <tr>\n",
       "      <th>...</th>\n",
       "      <td>...</td>\n",
       "      <td>...</td>\n",
       "      <td>...</td>\n",
       "      <td>...</td>\n",
       "    </tr>\n",
       "    <tr>\n",
       "      <th>3456</th>\n",
       "      <td>2016-12-23T00:00:00.000Z</td>\n",
       "      <td>Amazon Fire Hd 10 Tablet, Wi-Fi, 16 Gb, Specia...</td>\n",
       "      <td>I purchased this as a gift after using this at...</td>\n",
       "      <td>1</td>\n",
       "    </tr>\n",
       "    <tr>\n",
       "      <th>3457</th>\n",
       "      <td>2016-12-22T00:00:00.000Z</td>\n",
       "      <td>Amazon Fire Hd 10 Tablet, Wi-Fi, 16 Gb, Specia...</td>\n",
       "      <td>Love my new Echo. Ask it questions...get the a...</td>\n",
       "      <td>1</td>\n",
       "    </tr>\n",
       "    <tr>\n",
       "      <th>3458</th>\n",
       "      <td>2016-12-21T00:00:00.000Z</td>\n",
       "      <td>Amazon Fire Hd 10 Tablet, Wi-Fi, 16 Gb, Specia...</td>\n",
       "      <td>This is a good buy with the recent drop in pri...</td>\n",
       "      <td>1</td>\n",
       "    </tr>\n",
       "    <tr>\n",
       "      <th>3459</th>\n",
       "      <td>2016-12-20T00:00:00.000Z</td>\n",
       "      <td>Amazon Fire Hd 10 Tablet, Wi-Fi, 16 Gb, Specia...</td>\n",
       "      <td>Love it! Alexa is Amazing! It is user friendly...</td>\n",
       "      <td>1</td>\n",
       "    </tr>\n",
       "    <tr>\n",
       "      <th>3460</th>\n",
       "      <td>2016-12-20T00:00:00.000Z</td>\n",
       "      <td>Amazon Fire Hd 10 Tablet, Wi-Fi, 16 Gb, Specia...</td>\n",
       "      <td>My wife wanted this for her birthday. She love...</td>\n",
       "      <td>1</td>\n",
       "    </tr>\n",
       "  </tbody>\n",
       "</table>\n",
       "<p>3461 rows × 4 columns</p>\n",
       "</div>"
      ],
      "text/plain": [
       "                          date  \\\n",
       "0     2017-01-13T00:00:00.000Z   \n",
       "1     2017-01-13T00:00:00.000Z   \n",
       "2     2017-01-13T00:00:00.000Z   \n",
       "3     2017-01-13T00:00:00.000Z   \n",
       "4     2017-01-12T00:00:00.000Z   \n",
       "...                        ...   \n",
       "3456  2016-12-23T00:00:00.000Z   \n",
       "3457  2016-12-22T00:00:00.000Z   \n",
       "3458  2016-12-21T00:00:00.000Z   \n",
       "3459  2016-12-20T00:00:00.000Z   \n",
       "3460  2016-12-20T00:00:00.000Z   \n",
       "\n",
       "                                              variation  \\\n",
       "0     All-New Fire HD 8 Tablet, 8 HD Display, Wi-Fi,...   \n",
       "1     All-New Fire HD 8 Tablet, 8 HD Display, Wi-Fi,...   \n",
       "2     All-New Fire HD 8 Tablet, 8 HD Display, Wi-Fi,...   \n",
       "3     All-New Fire HD 8 Tablet, 8 HD Display, Wi-Fi,...   \n",
       "4     All-New Fire HD 8 Tablet, 8 HD Display, Wi-Fi,...   \n",
       "...                                                 ...   \n",
       "3456  Amazon Fire Hd 10 Tablet, Wi-Fi, 16 Gb, Specia...   \n",
       "3457  Amazon Fire Hd 10 Tablet, Wi-Fi, 16 Gb, Specia...   \n",
       "3458  Amazon Fire Hd 10 Tablet, Wi-Fi, 16 Gb, Specia...   \n",
       "3459  Amazon Fire Hd 10 Tablet, Wi-Fi, 16 Gb, Specia...   \n",
       "3460  Amazon Fire Hd 10 Tablet, Wi-Fi, 16 Gb, Specia...   \n",
       "\n",
       "                                       verified_reviews  feedback  \n",
       "0     This product so far has not disappointed. My c...         1  \n",
       "1     great for beginner or experienced person. Boug...         1  \n",
       "2     Inexpensive tablet for him to use and learn on...         1  \n",
       "3     I've had my Fire HD 8 two weeks now and I love...         1  \n",
       "4     I bought this for my grand daughter when she c...         1  \n",
       "...                                                 ...       ...  \n",
       "3456  I purchased this as a gift after using this at...         1  \n",
       "3457  Love my new Echo. Ask it questions...get the a...         1  \n",
       "3458  This is a good buy with the recent drop in pri...         1  \n",
       "3459  Love it! Alexa is Amazing! It is user friendly...         1  \n",
       "3460  My wife wanted this for her birthday. She love...         1  \n",
       "\n",
       "[3461 rows x 4 columns]"
      ]
     },
     "execution_count": 4,
     "metadata": {},
     "output_type": "execute_result"
    }
   ],
   "source": [
    "df"
   ]
  },
  {
   "cell_type": "code",
   "execution_count": 5,
   "id": "9772e7f6",
   "metadata": {},
   "outputs": [],
   "source": [
    "\n",
    "## apply stop words\n",
    "df['reviews_without_stop'] = df['verified_reviews'].apply(lambda x: ' '.join([word for word in x.split() if word not in (stop)]))"
   ]
  },
  {
   "cell_type": "code",
   "execution_count": 6,
   "id": "139454e5",
   "metadata": {},
   "outputs": [
    {
     "data": {
      "text/plain": [
       "0       This product far disappointed. My children lov...\n",
       "1       great beginner experienced person. Bought gift...\n",
       "2       Inexpensive tablet use learn on, step NABI. He...\n",
       "3       I've Fire HD 8 two weeks I love it. This table...\n",
       "4       I bought grand daughter comes visit. I set use...\n",
       "                              ...                        \n",
       "3456    I purchased gift using another home. I also tr...\n",
       "3457    Love new Echo. Ask questions...get answers. Wa...\n",
       "3458    This good buy recent drop price. Despite I lov...\n",
       "3459    Love it! Alexa Amazing! It user friendly witho...\n",
       "3460    My wife wanted birthday. She loves it! Speaker...\n",
       "Name: reviews_without_stop, Length: 3461, dtype: object"
      ]
     },
     "execution_count": 6,
     "metadata": {},
     "output_type": "execute_result"
    }
   ],
   "source": [
    "df['reviews_without_stop']"
   ]
  },
  {
   "cell_type": "code",
   "execution_count": 7,
   "id": "b3f35e69",
   "metadata": {},
   "outputs": [],
   "source": [
    "orchest.output(df, name=\"stop_dataframe\")"
   ]
  },
  {
   "cell_type": "code",
   "execution_count": null,
   "id": "29a360db",
   "metadata": {},
   "outputs": [],
   "source": []
  }
 ],
 "metadata": {
  "kernelspec": {
   "display_name": "Python 3_new",
   "language": "python",
   "name": "orchest-kernel-d119ff82-fbad-4f5a-a8a5-5ae703160ac7"
  },
  "language_info": {
   "codemirror_mode": {
    "name": "ipython",
    "version": 3
   },
   "file_extension": ".py",
   "mimetype": "text/x-python",
   "name": "python",
   "nbconvert_exporter": "python",
   "pygments_lexer": "ipython3",
   "version": "3.7.6"
  }
 },
 "nbformat": 4,
 "nbformat_minor": 5
}
