{
 "cells": [
  {
   "cell_type": "code",
   "execution_count": 1,
   "id": "173fbf41",
   "metadata": {},
   "outputs": [],
   "source": [
    "import pandas as pd\n",
    "import orchest"
   ]
  },
  {
   "cell_type": "code",
   "execution_count": 2,
   "id": "371564dc",
   "metadata": {},
   "outputs": [],
   "source": [
    "df = pd.read_csv('amazon_review.txt',sep='\\t')"
   ]
  },
  {
   "cell_type": "code",
   "execution_count": 3,
   "id": "620026ea",
   "metadata": {},
   "outputs": [
    {
     "data": {
      "text/html": [
       "<div>\n",
       "<style scoped>\n",
       "    .dataframe tbody tr th:only-of-type {\n",
       "        vertical-align: middle;\n",
       "    }\n",
       "\n",
       "    .dataframe tbody tr th {\n",
       "        vertical-align: top;\n",
       "    }\n",
       "\n",
       "    .dataframe thead th {\n",
       "        text-align: right;\n",
       "    }\n",
       "</style>\n",
       "<table border=\"1\" class=\"dataframe\">\n",
       "  <thead>\n",
       "    <tr style=\"text-align: right;\">\n",
       "      <th></th>\n",
       "      <th>date</th>\n",
       "      <th>variation</th>\n",
       "      <th>verified_reviews</th>\n",
       "      <th>feedback</th>\n",
       "    </tr>\n",
       "  </thead>\n",
       "  <tbody>\n",
       "    <tr>\n",
       "      <th>0</th>\n",
       "      <td>2017-01-13T00:00:00.000Z</td>\n",
       "      <td>All-New Fire HD 8 Tablet, 8 HD Display, Wi-Fi,...</td>\n",
       "      <td>This product so far has not disappointed. My c...</td>\n",
       "      <td>1</td>\n",
       "    </tr>\n",
       "    <tr>\n",
       "      <th>1</th>\n",
       "      <td>2017-01-13T00:00:00.000Z</td>\n",
       "      <td>All-New Fire HD 8 Tablet, 8 HD Display, Wi-Fi,...</td>\n",
       "      <td>great for beginner or experienced person. Boug...</td>\n",
       "      <td>1</td>\n",
       "    </tr>\n",
       "    <tr>\n",
       "      <th>2</th>\n",
       "      <td>2017-01-13T00:00:00.000Z</td>\n",
       "      <td>All-New Fire HD 8 Tablet, 8 HD Display, Wi-Fi,...</td>\n",
       "      <td>Inexpensive tablet for him to use and learn on...</td>\n",
       "      <td>1</td>\n",
       "    </tr>\n",
       "    <tr>\n",
       "      <th>3</th>\n",
       "      <td>2017-01-13T00:00:00.000Z</td>\n",
       "      <td>All-New Fire HD 8 Tablet, 8 HD Display, Wi-Fi,...</td>\n",
       "      <td>I've had my Fire HD 8 two weeks now and I love...</td>\n",
       "      <td>1</td>\n",
       "    </tr>\n",
       "    <tr>\n",
       "      <th>4</th>\n",
       "      <td>2017-01-12T00:00:00.000Z</td>\n",
       "      <td>All-New Fire HD 8 Tablet, 8 HD Display, Wi-Fi,...</td>\n",
       "      <td>I bought this for my grand daughter when she c...</td>\n",
       "      <td>1</td>\n",
       "    </tr>\n",
       "    <tr>\n",
       "      <th>...</th>\n",
       "      <td>...</td>\n",
       "      <td>...</td>\n",
       "      <td>...</td>\n",
       "      <td>...</td>\n",
       "    </tr>\n",
       "    <tr>\n",
       "      <th>3456</th>\n",
       "      <td>2016-12-23T00:00:00.000Z</td>\n",
       "      <td>Amazon Fire Hd 10 Tablet, Wi-Fi, 16 Gb, Specia...</td>\n",
       "      <td>I purchased this as a gift after using this at...</td>\n",
       "      <td>1</td>\n",
       "    </tr>\n",
       "    <tr>\n",
       "      <th>3457</th>\n",
       "      <td>2016-12-22T00:00:00.000Z</td>\n",
       "      <td>Amazon Fire Hd 10 Tablet, Wi-Fi, 16 Gb, Specia...</td>\n",
       "      <td>Love my new Echo. Ask it questions...get the a...</td>\n",
       "      <td>1</td>\n",
       "    </tr>\n",
       "    <tr>\n",
       "      <th>3458</th>\n",
       "      <td>2016-12-21T00:00:00.000Z</td>\n",
       "      <td>Amazon Fire Hd 10 Tablet, Wi-Fi, 16 Gb, Specia...</td>\n",
       "      <td>This is a good buy with the recent drop in pri...</td>\n",
       "      <td>1</td>\n",
       "    </tr>\n",
       "    <tr>\n",
       "      <th>3459</th>\n",
       "      <td>2016-12-20T00:00:00.000Z</td>\n",
       "      <td>Amazon Fire Hd 10 Tablet, Wi-Fi, 16 Gb, Specia...</td>\n",
       "      <td>Love it! Alexa is Amazing! It is user friendly...</td>\n",
       "      <td>1</td>\n",
       "    </tr>\n",
       "    <tr>\n",
       "      <th>3460</th>\n",
       "      <td>2016-12-20T00:00:00.000Z</td>\n",
       "      <td>Amazon Fire Hd 10 Tablet, Wi-Fi, 16 Gb, Specia...</td>\n",
       "      <td>My wife wanted this for her birthday. She love...</td>\n",
       "      <td>1</td>\n",
       "    </tr>\n",
       "  </tbody>\n",
       "</table>\n",
       "<p>3461 rows × 4 columns</p>\n",
       "</div>"
      ],
      "text/plain": [
       "                          date  \\\n",
       "0     2017-01-13T00:00:00.000Z   \n",
       "1     2017-01-13T00:00:00.000Z   \n",
       "2     2017-01-13T00:00:00.000Z   \n",
       "3     2017-01-13T00:00:00.000Z   \n",
       "4     2017-01-12T00:00:00.000Z   \n",
       "...                        ...   \n",
       "3456  2016-12-23T00:00:00.000Z   \n",
       "3457  2016-12-22T00:00:00.000Z   \n",
       "3458  2016-12-21T00:00:00.000Z   \n",
       "3459  2016-12-20T00:00:00.000Z   \n",
       "3460  2016-12-20T00:00:00.000Z   \n",
       "\n",
       "                                              variation  \\\n",
       "0     All-New Fire HD 8 Tablet, 8 HD Display, Wi-Fi,...   \n",
       "1     All-New Fire HD 8 Tablet, 8 HD Display, Wi-Fi,...   \n",
       "2     All-New Fire HD 8 Tablet, 8 HD Display, Wi-Fi,...   \n",
       "3     All-New Fire HD 8 Tablet, 8 HD Display, Wi-Fi,...   \n",
       "4     All-New Fire HD 8 Tablet, 8 HD Display, Wi-Fi,...   \n",
       "...                                                 ...   \n",
       "3456  Amazon Fire Hd 10 Tablet, Wi-Fi, 16 Gb, Specia...   \n",
       "3457  Amazon Fire Hd 10 Tablet, Wi-Fi, 16 Gb, Specia...   \n",
       "3458  Amazon Fire Hd 10 Tablet, Wi-Fi, 16 Gb, Specia...   \n",
       "3459  Amazon Fire Hd 10 Tablet, Wi-Fi, 16 Gb, Specia...   \n",
       "3460  Amazon Fire Hd 10 Tablet, Wi-Fi, 16 Gb, Specia...   \n",
       "\n",
       "                                       verified_reviews  feedback  \n",
       "0     This product so far has not disappointed. My c...         1  \n",
       "1     great for beginner or experienced person. Boug...         1  \n",
       "2     Inexpensive tablet for him to use and learn on...         1  \n",
       "3     I've had my Fire HD 8 two weeks now and I love...         1  \n",
       "4     I bought this for my grand daughter when she c...         1  \n",
       "...                                                 ...       ...  \n",
       "3456  I purchased this as a gift after using this at...         1  \n",
       "3457  Love my new Echo. Ask it questions...get the a...         1  \n",
       "3458  This is a good buy with the recent drop in pri...         1  \n",
       "3459  Love it! Alexa is Amazing! It is user friendly...         1  \n",
       "3460  My wife wanted this for her birthday. She love...         1  \n",
       "\n",
       "[3461 rows x 4 columns]"
      ]
     },
     "execution_count": 3,
     "metadata": {},
     "output_type": "execute_result"
    }
   ],
   "source": [
    "df"
   ]
  },
  {
   "cell_type": "code",
   "execution_count": 4,
   "id": "db8c4a5f",
   "metadata": {},
   "outputs": [],
   "source": [
    "orchest.output(df, name=\"input_dataframe\")"
   ]
  },
  {
   "cell_type": "code",
   "execution_count": 5,
   "id": "636634ed",
   "metadata": {},
   "outputs": [
    {
     "data": {
      "text/plain": [
       "0       This product so far has not disappointed. My c...\n",
       "1       great for beginner or experienced person. Boug...\n",
       "2       Inexpensive tablet for him to use and learn on...\n",
       "3       I've had my Fire HD 8 two weeks now and I love...\n",
       "4       I bought this for my grand daughter when she c...\n",
       "                              ...                        \n",
       "3456    I purchased this as a gift after using this at...\n",
       "3457    Love my new Echo. Ask it questions...get the a...\n",
       "3458    This is a good buy with the recent drop in pri...\n",
       "3459    Love it! Alexa is Amazing! It is user friendly...\n",
       "3460    My wife wanted this for her birthday. She love...\n",
       "Name: verified_reviews, Length: 3461, dtype: object"
      ]
     },
     "execution_count": 5,
     "metadata": {},
     "output_type": "execute_result"
    }
   ],
   "source": [
    "df['verified_reviews']"
   ]
  },
  {
   "cell_type": "code",
   "execution_count": null,
   "id": "3aee9a36",
   "metadata": {},
   "outputs": [],
   "source": []
  }
 ],
 "metadata": {
  "kernelspec": {
   "display_name": "Python 3",
   "language": "python",
   "name": "orchest-kernel-d119ff82-fbad-4f5a-a8a5-5ae703160ac7"
  },
  "language_info": {
   "codemirror_mode": {
    "name": "ipython",
    "version": 3
   },
   "file_extension": ".py",
   "mimetype": "text/x-python",
   "name": "python",
   "nbconvert_exporter": "python",
   "pygments_lexer": "ipython3",
   "version": "3.7.6"
  }
 },
 "nbformat": 4,
 "nbformat_minor": 5
}
